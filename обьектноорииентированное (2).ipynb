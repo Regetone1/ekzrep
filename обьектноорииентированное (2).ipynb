{
 "cells": [
  {
   "cell_type": "code",
   "execution_count": 1,
   "id": "f69e2a25",
   "metadata": {},
   "outputs": [
    {
     "name": "stdout",
     "output_type": "stream",
     "text": [
      "<class 'str'>\n",
      "<class 'int'>\n",
      "<class 'int'>\n",
      "<class 'int'>\n"
     ]
    }
   ],
   "source": [
    "#класс в python иожно считать некоторую структуру, по которой конструируется его экземпляры.\n",
    "#суть ООП - создатьв программе свой класс(тип данных) который являлся бы категоризацией некоего абстрактного множества обьектов характеристик и набора операций для некоторой сущности\n",
    "item1 = 'Phone'\n",
    "item1_price = 100\n",
    "item1_quantity = 5\n",
    "item1_price_total = item1_price * item1_quantity\n",
    "print(type(item1))\n",
    "print(type(item1_price))\n",
    "print(type(item1_quantity))\n",
    "print(type(item1_price_total))\n"
   ]
  },
  {
   "cell_type": "code",
   "execution_count": 11,
   "id": "d8ae7a8d",
   "metadata": {},
   "outputs": [
    {
     "name": "stdout",
     "output_type": "stream",
     "text": [
      "500\n",
      "[<__main__.Item object at 0x000001C70C5688B0>]\n"
     ]
    }
   ],
   "source": [
    "class Item: #имя класса лучше с заглавной буквы и оно должно отражать некую сущность \n",
    "    #pay_rate = 0.8 #атрибут класса\n",
    "    all = []\n",
    "    \n",
    "    def __init__(self, name, price: int, quantity):#метод класса - тоже что и функция, только созданная внутри класса, при каждом вызове метода класса или обьекта в python в качестве первого аргумента передается текущий аргумент этого класса \n",
    "        assert price >= 0, f'price {price} < 0'\n",
    "        assert price >= 0, f'quantity {quantity} < 0'\n",
    "        self.name = name#сверху конструктор обьекта класса Item\n",
    "        self.price = price\n",
    "        self.quantity = quantity\n",
    "        #print(f'I AM CREATED:{self.name}')\n",
    "        #print('My price is %d' %self.price)\n",
    "        Item.all.append(self)\n",
    "    def calc_total_price(self, price, quantity):\n",
    "        return self.price*self.quantity\n",
    "#item1 = Item('Phone', 500, 5)\n",
    "#print(item1.calc_total_price(item1.price, item1.quantity))\n",
    "    def apply_discount(self):\n",
    "        return self.price * pay_rate\n",
    "item1 = Item('Phone', 500, 5)\n",
    "print(item1.price)\n",
    "print(Item.all)"
   ]
  },
  {
   "cell_type": "code",
   "execution_count": 1,
   "id": "3a753445",
   "metadata": {},
   "outputs": [
    {
     "name": "stdout",
     "output_type": "stream",
     "text": [
      "Toyota is moving\n"
     ]
    }
   ],
   "source": [
    "class Car():\n",
    "    def __init__(self, name, model, year, fuel):\n",
    "        self.name = name\n",
    "        self.model = model\n",
    "        self.year = year\n",
    "        self.fuellvl = 45\n",
    "        self.fuel = fuel\n",
    "    \n",
    "    def fell_car(self):\n",
    "        self.fuel_lvl = self.fuel\n",
    "        print('fuel of %s id full now' %self.name)\n",
    "     \n",
    "    def drive(self):\n",
    "        if(self.fuellvl > 0):\n",
    "            print('%s is moving' %self.name)\n",
    "            self.fuellvl -= 1\n",
    "        else:\n",
    "            print('benzo pls' %self.name)\n",
    "        \n",
    "        \n",
    "car1 = Car('Toyota', 'mark II', 1997, 50)\n",
    "car1.drive()"
   ]
  }
 ],
 "metadata": {
  "kernelspec": {
   "display_name": "Python 3",
   "language": "python",
   "name": "python3"
  },
  "language_info": {
   "codemirror_mode": {
    "name": "ipython",
    "version": 3
   },
   "file_extension": ".py",
   "mimetype": "text/x-python",
   "name": "python",
   "nbconvert_exporter": "python",
   "pygments_lexer": "ipython3",
   "version": "3.8.8"
  }
 },
 "nbformat": 4,
 "nbformat_minor": 5
}
